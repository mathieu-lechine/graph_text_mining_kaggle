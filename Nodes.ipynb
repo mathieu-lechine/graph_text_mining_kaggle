{
 "cells": [
  {
   "cell_type": "code",
   "execution_count": 37,
   "metadata": {
    "collapsed": true
   },
   "outputs": [],
   "source": [
    "import networkx as nx\n",
    "G=nx.Graph()"
   ]
  },
  {
   "cell_type": "code",
   "execution_count": 38,
   "metadata": {
    "collapsed": false
   },
   "outputs": [],
   "source": [
    "import csv\n",
    "with open(\"/Users/pacard/Desktop/Master/graph-text/training_set.txt\", \"r\") as f:\n",
    "    reader = csv.reader(f)\n",
    "    training_set  = list(reader)\n",
    "\n",
    "training_set = [element[0].split(\" \") for element in training_set]"
   ]
  },
  {
   "cell_type": "code",
   "execution_count": 39,
   "metadata": {
    "collapsed": false
   },
   "outputs": [
    {
     "name": "stdout",
     "output_type": "stream",
     "text": [
      "615512\n"
     ]
    }
   ],
   "source": [
    "print len(training_set)"
   ]
  },
  {
   "cell_type": "code",
   "execution_count": 40,
   "metadata": {
    "collapsed": true
   },
   "outputs": [],
   "source": [
    "edgelist = [(elem[0],elem[1]) for elem in training_set if elem[2]=='1']"
   ]
  },
  {
   "cell_type": "code",
   "execution_count": 41,
   "metadata": {
    "collapsed": false
   },
   "outputs": [],
   "source": [
    "H = nx.Graph(edgelist)"
   ]
  },
  {
   "cell_type": "code",
   "execution_count": 42,
   "metadata": {
    "collapsed": false
   },
   "outputs": [
    {
     "data": {
      "text/plain": [
       "['9302075']"
      ]
     },
     "execution_count": 42,
     "metadata": {},
     "output_type": "execute_result"
    }
   ],
   "source": [
    "sorted(nx.common_neighbors(H,'9510123','9502114'))"
   ]
  },
  {
   "cell_type": "code",
   "execution_count": 43,
   "metadata": {
    "collapsed": false
   },
   "outputs": [
    {
     "data": {
      "text/plain": [
       "1"
      ]
     },
     "execution_count": 43,
     "metadata": {},
     "output_type": "execute_result"
    }
   ],
   "source": [
    "len(sorted(nx.common_neighbors(H,'9510123','9502114')))"
   ]
  },
  {
   "cell_type": "code",
   "execution_count": 44,
   "metadata": {
    "collapsed": false,
    "scrolled": true
   },
   "outputs": [
    {
     "name": "stdout",
     "output_type": "stream",
     "text": [
      "6\n"
     ]
    }
   ],
   "source": [
    "print len(nx.neighbors(H,'9510123'))\n"
   ]
  },
  {
   "cell_type": "code",
   "execution_count": 22,
   "metadata": {
    "collapsed": false
   },
   "outputs": [],
   "source": [
    "with open(\"/Users/pacard/Desktop/Master/graph-text/Train_common_neighbours_norm.txt\", \"w\") as w:\n",
    "    csv_out = csv.writer(w)\n",
    "    for row in training_set:\n",
    "        try:\n",
    "            r = len(sorted(nx.common_neighbors(H,row[0],row[1])))/float(len(nx.neighbors(H,row[0])))\n",
    "            csv_out.writerow([row[0],row[1],r])\n",
    "        except:\n",
    "            csv_out.writerow([row[0],row[1],0])\n",
    "            continue"
   ]
  },
  {
   "cell_type": "code",
   "execution_count": 58,
   "metadata": {
    "collapsed": false
   },
   "outputs": [
    {
     "data": {
      "text/plain": [
       "27684"
      ]
     },
     "execution_count": 58,
     "metadata": {},
     "output_type": "execute_result"
    }
   ],
   "source": [
    "nx.number_of_nodes(H)"
   ]
  },
  {
   "cell_type": "code",
   "execution_count": 23,
   "metadata": {
    "collapsed": true
   },
   "outputs": [],
   "source": [
    "with open(\"/Users/pacard/Desktop/Master/graph-text/testing_set.txt\", \"r\") as f:\n",
    "    reader = csv.reader(f)\n",
    "    testing_set  = list(reader)\n",
    "\n",
    "testing_set = [element[0].split(\" \") for element in testing_set]"
   ]
  },
  {
   "cell_type": "code",
   "execution_count": 24,
   "metadata": {
    "collapsed": false
   },
   "outputs": [],
   "source": [
    "with open(\"/Users/pacard/Desktop/Master/graph-text/Test_common_neighbours_norm.txt\", \"w\") as w:\n",
    "    csv_out = csv.writer(w)\n",
    "    for row in testing_set:\n",
    "        try:\n",
    "            r = len(sorted(nx.common_neighbors(H,row[0],row[1])))/float(len(nx.neighbors(H,row[0])))\n",
    "            csv_out.writerow([row[0],row[1],r])\n",
    "        except:\n",
    "            csv_out.writerow([row[0],row[1],0])\n",
    "            continue"
   ]
  },
  {
   "cell_type": "markdown",
   "metadata": {},
   "source": [
    "# TF-IDF"
   ]
  },
  {
   "cell_type": "code",
   "execution_count": 1,
   "metadata": {
    "collapsed": false
   },
   "outputs": [
    {
     "name": "stdout",
     "output_type": "stream",
     "text": [
      "[nltk_data] Downloading package stopwords to\n",
      "[nltk_data]     /Users/pacard/nltk_data...\n",
      "[nltk_data]   Unzipping corpora/stopwords.zip.\n"
     ]
    }
   ],
   "source": [
    "import random\n",
    "import numpy as np\n",
    "from sklearn import preprocessing\n",
    "import nltk\n",
    "import csv\n",
    "\n",
    "nltk.download('stopwords')\n",
    "stpwds = set(nltk.corpus.stopwords.words(\"english\"))\n"
   ]
  },
  {
   "cell_type": "code",
   "execution_count": 2,
   "metadata": {
    "collapsed": true
   },
   "outputs": [],
   "source": [
    "class Stemmer :\n",
    "    def stem(self, x):\n",
    "        return x\n",
    "    \n",
    "stemmer = Stemmer()"
   ]
  },
  {
   "cell_type": "code",
   "execution_count": 3,
   "metadata": {
    "collapsed": true
   },
   "outputs": [],
   "source": [
    "with open(\"node_information.csv\", \"r\") as f:\n",
    "    reader = csv.reader(f)\n",
    "    node_info  = list(reader)"
   ]
  },
  {
   "cell_type": "code",
   "execution_count": 75,
   "metadata": {
    "collapsed": false
   },
   "outputs": [],
   "source": [
    "node_head = []\n",
    "for el in node_info:\n",
    "    node_head.append(el[2])"
   ]
  },
  {
   "cell_type": "code",
   "execution_count": 76,
   "metadata": {
    "collapsed": false
   },
   "outputs": [
    {
     "name": "stdout",
     "output_type": "stream",
     "text": [
      "['compactification geometry and duality', 'domain walls and massive gauged supergravity potentials', 'comment on metric fluctuations in brane worlds', 'moving mirrors and thermodynamic paradoxes', 'bundles of chiral blocks and boundary conditions in cft']\n"
     ]
    }
   ],
   "source": [
    "print node_head[:5]"
   ]
  },
  {
   "cell_type": "code",
   "execution_count": 77,
   "metadata": {
    "collapsed": true
   },
   "outputs": [],
   "source": [
    "def split(string, divs):\n",
    "    for d in divs[1:]:\n",
    "        string = string.replace(d, divs[0])\n",
    "    return string.split(divs[0])\n"
   ]
  },
  {
   "cell_type": "code",
   "execution_count": 78,
   "metadata": {
    "collapsed": false
   },
   "outputs": [],
   "source": [
    "import string\n",
    "import itertools\n",
    "from nltk.corpus import stopwords\n",
    "from nltk.stem import WordNetLemmatizer\n",
    "\n",
    "\n",
    "stopwords = stopwords.words('english')\n",
    "words = []\n",
    "wnl = WordNetLemmatizer()\n",
    "\n",
    "\n",
    "for doc_id, text in enumerate(node_head):\n",
    "    \n",
    "    #On decode un peu le bordel\n",
    "    doc = nltk.word_tokenize(text.decode('utf-8').lower())\n",
    "\n",
    "    #On enlève la ponctuation\n",
    "    punctuation = set(string.punctuation)\n",
    "    doc = [w for w in doc if w not in punctuation]\n",
    "    \n",
    "    #On casse les mots à la con du type 8/10, ou quand le FdP a oublié un espace après le point..\n",
    "    doc = [split(x,'.') for x in doc]\n",
    "    doc = list(itertools.chain(*doc))\n",
    "    doc = [split(x,'/') for x in doc]\n",
    "    doc = list(itertools.chain(*doc))\n",
    "    doc = [split(x,'`') for x in doc]\n",
    "    doc = list(itertools.chain(*doc))\n",
    "    \n",
    "    #On enlève les stopwords\n",
    "    doc = [w for w in doc if w not in stopwords]\n",
    "    doc = [w for w in doc if w not in words]     \n",
    "    \n",
    "    #On enlève les pluriels\n",
    "    doc = [wnl.lemmatize(w) for w in doc ]\n",
    "    s = \" \";\n",
    "    doc = s.join(doc)\n",
    "    #On stemme un peu tout ça\n",
    "    #doc = [stemmer.stem(w) for w in doc]\n",
    "    node_head[doc_id]=doc"
   ]
  },
  {
   "cell_type": "code",
   "execution_count": 79,
   "metadata": {
    "collapsed": false
   },
   "outputs": [
    {
     "name": "stdout",
     "output_type": "stream",
     "text": [
      "[u'compactification geometry duality', u'domain wall massive gauged supergravity potential', u'comment metric fluctuation brane world', u'moving mirror thermodynamic paradox', u'bundle chiral block boundary condition cft', u'question quantum physic', u'topological defect 3-d euclidean gravity', u'n 0 supersymmetry non-relativistic monopole', u'gluon pair production space-time dependent chromofield', u'instantons euclidean supersymmetry wick rotation']\n"
     ]
    }
   ],
   "source": [
    "print node_head[:10]"
   ]
  },
  {
   "cell_type": "code",
   "execution_count": 80,
   "metadata": {
    "collapsed": false
   },
   "outputs": [],
   "source": [
    "from sklearn.feature_extraction.text import TfidfVectorizer\n",
    "\n",
    "\n",
    "m = TfidfVectorizer()\n",
    "tfidf_matrix = m.fit_transform(node_head)"
   ]
  },
  {
   "cell_type": "code",
   "execution_count": 109,
   "metadata": {
    "collapsed": false
   },
   "outputs": [
    {
     "data": {
      "text/plain": [
       "array([[-0.02288976,  0.01822028, -0.08483174, ...,  0.00317535,\n",
       "         0.03435823,  0.02445276],\n",
       "       [-0.0810176 ,  0.0353654 , -0.01475359, ..., -0.07016747,\n",
       "        -0.00562271, -0.02300023],\n",
       "       [-0.08662295,  0.00620666, -0.03694489, ..., -0.13775795,\n",
       "         0.01811809,  0.01937653],\n",
       "       ..., \n",
       "       [-0.06037219,  0.02650497, -0.0072799 , ..., -0.02904089,\n",
       "        -0.17272778, -0.04611337],\n",
       "       [-0.0635159 ,  0.02907164, -0.0227509 , ...,  0.05944986,\n",
       "         0.01066301,  0.00087834],\n",
       "       [-0.05140455,  0.02878766, -0.02929925, ..., -0.01304658,\n",
       "         0.01618957,  0.00418086]])"
      ]
     },
     "execution_count": 109,
     "metadata": {},
     "output_type": "execute_result"
    }
   ],
   "source": [
    "from sklearn.decomposition import SparsePCA\n",
    "pca = PCA(n_components=100)\n",
    "pca.fit_transform(tfidf_matrix.toarray())"
   ]
  },
  {
   "cell_type": "code",
   "execution_count": 116,
   "metadata": {
    "collapsed": false
   },
   "outputs": [
    {
     "name": "stdout",
     "output_type": "stream",
     "text": [
      "CPU times: user 59.3 s, sys: 1.1 s, total: 1min\n",
      "Wall time: 1min\n"
     ]
    }
   ],
   "source": [
    "from sklearn.cluster import KMeans\n",
    "\n",
    "num_clusters = 100\n",
    "km = KMeans(n_clusters=num_clusters)\n",
    "\n",
    "%time km.fit(tfidf_matrix)\n",
    "clusters = km.labels_.tolist()"
   ]
  },
  {
   "cell_type": "code",
   "execution_count": 117,
   "metadata": {
    "collapsed": false
   },
   "outputs": [],
   "source": [
    "import matplotlib.pyplot as plt\n",
    "% matplotlib inline"
   ]
  },
  {
   "cell_type": "code",
   "execution_count": 119,
   "metadata": {
    "collapsed": false
   },
   "outputs": [
    {
     "data": {
      "text/plain": [
       "(array([  120.,   245.,   229.,   217.,    97.,   109.,   339.,   181.,\n",
       "          611.,   122.,   639.,    78.,   229.,   600.,   179.,   416.,\n",
       "          266.,   433.,   337.,   296.,   368.,   291.,   301.,   122.,\n",
       "          298.,   106.,    58.,   214.,   220.,   287.,   183.,    58.,\n",
       "          208.,   306.,    75.,   233.,   174.,   193.,   167.,   595.,\n",
       "          277.,   164.,   318.,   131.,   380.,   144.,   289.,   199.,\n",
       "          164.,   212.,   215.,   238.,   121.,   183.,   128.,    78.,\n",
       "          111.,   273.,   326.,   164.,   239.,   310.,   425.,   118.,\n",
       "          241.,   118.,   189.,   135.,   158.,   443.,  3594.,   320.,\n",
       "          316.,   119.,   228.,   138.,   880.,   193.,   139.,   191.,\n",
       "          158.,   157.,   608.,   130.,   119.,   272.,   202.,   121.,\n",
       "          963.,   330.,   126.,   174.,    82.,   115.,    93.,   197.,\n",
       "          122.,   289.,   291.,   412.]),\n",
       " array([   0.,    1.,    2.,    3.,    4.,    5.,    6.,    7.,    8.,\n",
       "           9.,   10.,   11.,   12.,   13.,   14.,   15.,   16.,   17.,\n",
       "          18.,   19.,   20.,   21.,   22.,   23.,   24.,   25.,   26.,\n",
       "          27.,   28.,   29.,   30.,   31.,   32.,   33.,   34.,   35.,\n",
       "          36.,   37.,   38.,   39.,   40.,   41.,   42.,   43.,   44.,\n",
       "          45.,   46.,   47.,   48.,   49.,   50.,   51.,   52.,   53.,\n",
       "          54.,   55.,   56.,   57.,   58.,   59.,   60.,   61.,   62.,\n",
       "          63.,   64.,   65.,   66.,   67.,   68.,   69.,   70.,   71.,\n",
       "          72.,   73.,   74.,   75.,   76.,   77.,   78.,   79.,   80.,\n",
       "          81.,   82.,   83.,   84.,   85.,   86.,   87.,   88.,   89.,\n",
       "          90.,   91.,   92.,   93.,   94.,   95.,   96.,   97.,   98.,\n",
       "          99.,  100.]),\n",
       " <a list of 100 Patch objects>)"
      ]
     },
     "execution_count": 119,
     "metadata": {},
     "output_type": "execute_result"
    },
    {
     "data": {
      "image/png": "[encoded data removed]",
      "text/plain": [
       "<matplotlib.figure.Figure at 0x118139310>"
      ]
     },
     "metadata": {},
     "output_type": "display_data"
    }
   ],
   "source": [
    "plt.hist(clusters, range = (0, 100), bins = 100)"
   ]
  },
  {
   "cell_type": "code",
   "execution_count": 114,
   "metadata": {
    "collapsed": false
   },
   "outputs": [],
   "source": [
    "import pandas as pd\n",
    "df = pd.DataFrame(data=clusters)"
   ]
  },
  {
   "cell_type": "code",
   "execution_count": 115,
   "metadata": {
    "collapsed": false
   },
   "outputs": [
    {
     "name": "stdout",
     "output_type": "stream",
     "text": [
      "       0\n",
      "14     2\n",
      "49     2\n",
      "56     2\n",
      "90     2\n",
      "102    2\n",
      "107    2\n",
      "112    2\n",
      "124    2\n",
      "160    2\n",
      "198    2\n",
      "223    2\n",
      "251    2\n",
      "297    2\n",
      "304    2\n",
      "305    2\n",
      "312    2\n",
      "315    2\n",
      "328    2\n",
      "377    2\n",
      "415    2\n",
      "418    2\n",
      "448    2\n",
      "449    2\n",
      "516    2\n",
      "573    2\n",
      "574    2\n",
      "627    2\n",
      "635    2\n",
      "676    2\n",
      "692    2\n",
      "...   ..\n",
      "26913  2\n",
      "26935  2\n",
      "26943  2\n",
      "26955  2\n",
      "27006  2\n",
      "27112  2\n",
      "27128  2\n",
      "27151  2\n",
      "27154  2\n",
      "27165  2\n",
      "27174  2\n",
      "27267  2\n",
      "27282  2\n",
      "27289  2\n",
      "27303  2\n",
      "27306  2\n",
      "27319  2\n",
      "27351  2\n",
      "27368  2\n",
      "27507  2\n",
      "27557  2\n",
      "27623  2\n",
      "27624  2\n",
      "27630  2\n",
      "27664  2\n",
      "27702  2\n",
      "27717  2\n",
      "27720  2\n",
      "27724  2\n",
      "27753  2\n",
      "\n",
      "[1235 rows x 1 columns]\n"
     ]
    }
   ],
   "source": [
    "print df[df[0]==2]"
   ]
  },
  {
   "cell_type": "code",
   "execution_count": null,
   "metadata": {
    "collapsed": true
   },
   "outputs": [],
   "source": []
  }
 ],
 "metadata": {
  "kernelspec": {
   "display_name": "Python 2",
   "language": "python",
   "name": "python2"
  },
  "language_info": {
   "codemirror_mode": {
    "name": "ipython",
    "version": 2
   },
   "file_extension": ".py",
   "mimetype": "text/x-python",
   "name": "python",
   "nbconvert_exporter": "python",
   "pygments_lexer": "ipython2",
   "version": "2.7.11"
  }
 },
 "nbformat": 4,
 "nbformat_minor": 0
}
