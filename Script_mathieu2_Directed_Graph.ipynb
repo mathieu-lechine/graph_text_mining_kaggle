{
 "cells": [
  {
   "cell_type": "code",
   "execution_count": 27,
   "metadata": {
    "collapsed": false
   },
   "outputs": [],
   "source": [
    "import numpy as np\n",
    "import networkx as nx\n",
    "import csv\n",
    "import matplotlib.pyplot as plt\n",
    "%matplotlib inline\n",
    "import os\n",
    "from sets import Set"
   ]
  },
  {
   "cell_type": "code",
   "execution_count": 28,
   "metadata": {
    "collapsed": false
   },
   "outputs": [],
   "source": [
    "with open(\"training_set.txt\", \"r\") as f:\n",
    "    reader = csv.reader(f)\n",
    "    training_set  = list(reader)\n",
    "training_set = [element[0].split(\" \") for element in training_set]\n",
    "\n",
    "with open(\"testing_set.txt\", \"r\") as f:\n",
    "    reader = csv.reader(f)\n",
    "    testing_set  = list(reader)\n",
    "testing_set = [element[0].split(\" \") for element in testing_set]"
   ]
  },
  {
   "cell_type": "code",
   "execution_count": 29,
   "metadata": {
    "collapsed": false
   },
   "outputs": [
    {
     "name": "stdout",
     "output_type": "stream",
     "text": [
      "27770\n"
     ]
    }
   ],
   "source": [
    "with open(\"node_information.csv\", \"r\") as f:\n",
    "    reader = csv.reader(f)\n",
    "    node_info  = list(reader)\n",
    "\n",
    "IDs = [element[0] for element in node_info]\n",
    "print len(IDs)"
   ]
  },
  {
   "cell_type": "code",
   "execution_count": 30,
   "metadata": {
    "collapsed": false
   },
   "outputs": [
    {
     "data": {
      "text/plain": [
       "['9807076', '9807139']"
      ]
     },
     "execution_count": 30,
     "metadata": {},
     "output_type": "execute_result"
    }
   ],
   "source": [
    "testing_set[0]"
   ]
  },
  {
   "cell_type": "markdown",
   "metadata": {},
   "source": [
    "On selectionne les couples d'articles qui sont liés"
   ]
  },
  {
   "cell_type": "code",
   "execution_count": 31,
   "metadata": {
    "collapsed": false
   },
   "outputs": [],
   "source": [
    "couple_article = [ [id1,id2] for id1, id2, edge in training_set if int(edge) ==1 ] \n",
    "list_couple_article_without_edge = [ [id1,id2] for id1, id2, edge in training_set if int(edge) ==0 ] "
   ]
  },
  {
   "cell_type": "markdown",
   "metadata": {},
   "source": [
    "# Build the directed graph"
   ]
  },
  {
   "cell_type": "code",
   "execution_count": 32,
   "metadata": {
    "collapsed": false
   },
   "outputs": [
    {
     "name": "stdout",
     "output_type": "stream",
     "text": [
      "Number of nodes: 27770\n",
      "Number of edges: 335130\n"
     ]
    }
   ],
   "source": [
    "G = nx.DiGraph() #Graphe d'article\n",
    "#add all nodes\n",
    "G.add_nodes_from(IDs)\n",
    "#add all edges\n",
    "G.add_edges_from(couple_article)\n",
    "print 'Number of nodes:', G.number_of_nodes() \n",
    "print 'Number of edges:', G.number_of_edges() "
   ]
  },
  {
   "cell_type": "code",
   "execution_count": 33,
   "metadata": {
    "collapsed": false
   },
   "outputs": [],
   "source": [
    "dict_degree_centrality = nx.degree_centrality(G)\n",
    "dict_in_degree_centrality = nx.in_degree_centrality(G)\n",
    "dict_out_degree_centrality = nx.out_degree_centrality(G)\n",
    "#dict_closeness_centrality = nx.closeness_centrality(G) #too long to compute\n",
    "#dict_betweenness_centrality = nx.betweenness_centrality(G) #too long to compute"
   ]
  },
  {
   "cell_type": "code",
   "execution_count": null,
   "metadata": {
    "collapsed": true
   },
   "outputs": [],
   "source": []
  },
  {
   "cell_type": "code",
   "execution_count": 34,
   "metadata": {
    "collapsed": false
   },
   "outputs": [],
   "source": [
    "def Create_2_new_features_list_from_dict_node(dict_node,training_set):\n",
    "    list_res = []\n",
    "    for el  in training_set:\n",
    "        id1 = el[0]\n",
    "        id2 = el[1]\n",
    "        new_feature1 = dict_node[id1]\n",
    "        new_feature2 = dict_node[id2]\n",
    "        list_res.append([id1,id2,new_feature1,new_feature2])\n",
    "    return list_res\n",
    "\n",
    "def Create_file_2_new_features(filename, list_feature):\n",
    "    with open(filename, \"w\") as f:\n",
    "        for row in list_feature:\n",
    "            f.write(row[0])\n",
    "            f.write(\",\")\n",
    "            f.write(row[1])\n",
    "            f.write(\",\")\n",
    "            f.write(str(row[2]))\n",
    "            f.write(\",\")\n",
    "            f.write(str(row[3]))\n",
    "            f.write(\"\\n\")"
   ]
  },
  {
   "cell_type": "code",
   "execution_count": 35,
   "metadata": {
    "collapsed": false
   },
   "outputs": [],
   "source": [
    "dict_node = dict_degree_centrality \n",
    "filename = \"training_degree_centrality.csv\"\n",
    "list_feature = Create_2_new_features_list_from_dict_node(dict_node,training_set)\n",
    "Create_file_2_new_features(filename, list_feature)\n",
    "\n",
    "dict_node = dict_in_degree_centrality\n",
    "filename = \"training_in_degree_centrality.csv\"\n",
    "list_feature = Create_2_new_features_list_from_dict_node(dict_node,training_set)\n",
    "Create_file_2_new_features(filename, list_feature)\n",
    "\n",
    "dict_node = dict_out_degree_centrality\n",
    "filename = \"training_out_degree_centrality.csv\"\n",
    "list_feature = Create_2_new_features_list_from_dict_node(dict_node,training_set)\n",
    "Create_file_2_new_features(filename, list_feature)"
   ]
  },
  {
   "cell_type": "code",
   "execution_count": 36,
   "metadata": {
    "collapsed": false
   },
   "outputs": [],
   "source": [
    "dict_node = dict_degree_centrality \n",
    "filename = \"testing_degree_centrality.csv\"\n",
    "list_feature = Create_2_new_features_list_from_dict_node(dict_node,testing_set)\n",
    "Create_file_2_new_features(filename, list_feature)\n",
    "\n",
    "dict_node = dict_in_degree_centrality\n",
    "filename = \"testing_in_degree_centrality.csv\"\n",
    "list_feature = Create_2_new_features_list_from_dict_node(dict_node,testing_set)\n",
    "Create_file_2_new_features(filename, list_feature)\n",
    "\n",
    "dict_node = dict_out_degree_centrality\n",
    "filename = \"testing_out_degree_centrality.csv\"\n",
    "list_feature = Create_2_new_features_list_from_dict_node(dict_node,testing_set)\n",
    "Create_file_2_new_features(filename, list_feature)"
   ]
  },
  {
   "cell_type": "markdown",
   "metadata": {},
   "source": [
    "# Compute local edge connectivity"
   ]
  },
  {
   "cell_type": "code",
   "execution_count": 37,
   "metadata": {
    "collapsed": true
   },
   "outputs": [],
   "source": [
    "from networkx.algorithms.connectivity import local_edge_connectivity\n",
    "from networkx.algorithms.connectivity import local_node_connectivity\n",
    "from networkx.algorithms import approximation as approx"
   ]
  },
  {
   "cell_type": "code",
   "execution_count": 38,
   "metadata": {
    "collapsed": false
   },
   "outputs": [
    {
     "name": "stdout",
     "output_type": "stream",
     "text": [
      "local_node_connectivity for training set\n",
      "0\n"
     ]
    }
   ],
   "source": [
    "print \"local_node_connectivity for training set\"\n",
    "list_local_node_connectivity_train = []\n",
    "compt=0\n",
    "for id1, id2, edge in training_set[:100]:\n",
    "    if compt % 50000 == 0:\n",
    "        print compt\n",
    "    compt += 1\n",
    "    local_con = approx.local_node_connectivity(G,id1,id2)\n",
    "    list_local_node_connectivity_train.append([id1,id2,local_con])\n",
    "    \n",
    "with open(\"training_local_node_connectivity.csv\", \"w\") as f:\n",
    "    for row in list_local_node_connectivity_train:\n",
    "        f.write(row[0])\n",
    "        f.write(\",\")\n",
    "        f.write(row[1])\n",
    "        f.write(\",\")\n",
    "        f.write(str(row[2]))\n",
    "        f.write(\"\\n\")"
   ]
  },
  {
   "cell_type": "code",
   "execution_count": 39,
   "metadata": {
    "collapsed": false
   },
   "outputs": [
    {
     "name": "stdout",
     "output_type": "stream",
     "text": [
      "local_node_connectivity for testing set\n",
      "0\n"
     ]
    }
   ],
   "source": [
    "print \"local_node_connectivity for testing set\"\n",
    "list_local_node_connectivity_test = []\n",
    "compt=0\n",
    "for id1, id2 in testing_set[:100]:\n",
    "    if compt % 10000 == 0:\n",
    "        print compt\n",
    "    compt += 1\n",
    "    local_con = approx.local_node_connectivity(G,id1,id2)\n",
    "    list_local_node_connectivity_test.append([id1,id2,local_con])\n",
    "    \n",
    "with open(\"testing_local_node_connectivity.csv\", \"w\") as f:\n",
    "    for row in list_local_node_connectivity_test:\n",
    "        f.write(row[0])\n",
    "        f.write(\",\")\n",
    "        f.write(row[1])\n",
    "        f.write(\",\")\n",
    "        f.write(str(row[2]))\n",
    "        f.write(\"\\n\")"
   ]
  }
 ],
 "metadata": {
  "kernelspec": {
   "display_name": "Python 2",
   "language": "python",
   "name": "python2"
  },
  "language_info": {
   "codemirror_mode": {
    "name": "ipython",
    "version": 2
   },
   "file_extension": ".py",
   "mimetype": "text/x-python",
   "name": "python",
   "nbconvert_exporter": "python",
   "pygments_lexer": "ipython2",
   "version": "2.7.11"
  }
 },
 "nbformat": 4,
 "nbformat_minor": 0
}
