{
 "cells": [
  {
   "cell_type": "code",
   "execution_count": 1,
   "metadata": {
    "collapsed": false
   },
   "outputs": [],
   "source": [
    "import numpy as np\n",
    "import networkx as nx\n",
    "import csv\n",
    "import matplotlib.pyplot as plt\n",
    "%matplotlib inline\n",
    "import os"
   ]
  },
  {
   "cell_type": "markdown",
   "metadata": {},
   "source": [
    "### Chargement des données"
   ]
  },
  {
   "cell_type": "code",
   "execution_count": 2,
   "metadata": {
    "collapsed": false
   },
   "outputs": [],
   "source": [
    "with open(\"training_set.txt\", \"r\") as f:\n",
    "    reader = csv.reader(f)\n",
    "    training_set  = list(reader)\n",
    "training_set = [element[0].split(\" \") for element in training_set]"
   ]
  },
  {
   "cell_type": "markdown",
   "metadata": {},
   "source": [
    "### Récupération des IDs"
   ]
  },
  {
   "cell_type": "code",
   "execution_count": 3,
   "metadata": {
    "collapsed": false
   },
   "outputs": [
    {
     "name": "stdout",
     "output_type": "stream",
     "text": [
      "27770\n"
     ]
    }
   ],
   "source": [
    "with open(\"node_information.csv\", \"r\") as f:\n",
    "    reader = csv.reader(f)\n",
    "    node_info  = list(reader)\n",
    "\n",
    "IDs = [element[0] for element in node_info]\n",
    "print(len(IDs))"
   ]
  },
  {
   "cell_type": "markdown",
   "metadata": {},
   "source": [
    "### Récupération des noms d'auteurs\n",
    "Retrait des parenthèses et des espaces/virgules finales"
   ]
  },
  {
   "cell_type": "code",
   "execution_count": 151,
   "metadata": {
    "collapsed": false,
    "scrolled": true
   },
   "outputs": [
    {
     "name": "stdout",
     "output_type": "stream",
     "text": [
      "5000\n",
      "10000\n",
      "15000\n",
      "20000\n",
      "25000\n"
     ]
    }
   ],
   "source": [
    "import re\n",
    "with open(\"node_information.csv\", \"r\") as f:\n",
    "    reader = csv.reader(f)\n",
    "    node_info  = list(reader)\n",
    "IDs2 = list()\n",
    "i=0\n",
    "for element in node_info:\n",
    "    drap = 1\n",
    "    temp = re.sub('[!@#<>\\\\/\\'1\\}\\{$]', '', element[3])\n",
    "    temp = re.sub('\\.', ' ', element[3])\n",
    "\n",
    "    \n",
    "\n",
    "    while drap ==1:\n",
    "        idx_parenthese_ouverte = temp.find(\"(\")\n",
    "        idx_parenthese_fermee = temp.find(\")\")\n",
    "        if idx_parenthese_ouverte != -1 and idx_parenthese_fermee != -1:\n",
    "            idx_ouvert2 = temp[(idx_parenthese_ouverte+1):idx_parenthese_fermee].find(\"(\")\n",
    "            if idx_ouvert2 ==-1:\n",
    "                temp = temp[0:(idx_parenthese_ouverte-1)]+temp[(idx_parenthese_fermee+1):]\n",
    "            else:\n",
    "                drap2=1\n",
    "                idx_ouvert_temp = idx_parenthese_ouverte+1\n",
    "                while drap2 ==1:\n",
    "                    idx_ouvert_temp += idx_ouvert2\n",
    "                    idx_ouvert2 = temp[(idx_ouvert_temp+1):idx_parenthese_fermee].find(\"(\")\n",
    "                    if idx_ouvert2==-1:\n",
    "                        temp = temp[0:(idx_ouvert_temp)]+temp[(idx_parenthese_fermee+1):]\n",
    "                        drap2=0\n",
    "        elif idx_parenthese_ouverte != -1:\n",
    "            temp = temp[0:(idx_parenthese_ouverte-1)]\n",
    "        elif idx_parenthese_fermee != -1:\n",
    "            temp = temp[(idx_parenthese_fermee+1):]\n",
    "        elif len(temp) >1 and temp[-1]==' ':\n",
    "            temp=temp[0:-1]\n",
    "        elif len(temp) >1 and temp[-1]==',':\n",
    "            temp=temp[0:-1]\n",
    "        elif len(temp) >1 and temp[-1]=='.':\n",
    "            temp=temp[0:-1]\n",
    "        else :\n",
    "            idx_point = temp.find(\".\")\n",
    "            if idx_point == -1:\n",
    "                drap = 0\n",
    "            elif temp[idx_point+1]!=\" \":\n",
    "                temp=temp[0:idx_point] + \". \"+ temp[(idx_point+1):]\n",
    "            else:\n",
    "                drap = 0\n",
    "\n",
    "    tempsplit = temp.split(\", \")\n",
    "    for j in range(len(tempsplit)-1,0,-1):\n",
    "        if tempsplit[j]=='':\n",
    "            del(tempsplit[j])\n",
    "    i+=1\n",
    "\n",
    "    if np.mod(i,5000)==0:\n",
    "        print(i)\n",
    "    IDs2.append(tempsplit)"
   ]
  },
  {
   "cell_type": "markdown",
   "metadata": {},
   "source": [
    "### Formatage des noms\n",
    "On ne garde que l'initiale et le dernier mot (qui fait office de nom)"
   ]
  },
  {
   "cell_type": "code",
   "execution_count": 160,
   "metadata": {
    "collapsed": false,
    "scrolled": true
   },
   "outputs": [
    {
     "name": "stdout",
     "output_type": "stream",
     "text": [
      "Erreur 1 (nom bizarre) :  802 Erreur 2 (pas de nom) :  4033\n"
     ]
    }
   ],
   "source": [
    "res = list()\n",
    "n_erreur=0\n",
    "n_erreur2=0\n",
    "for i in range(len(IDs2)):\n",
    "    drap = 0\n",
    "    temp_list = list()\n",
    "    for j in range(len(IDs2[i])):\n",
    "        # On récupère l'initiale et le dernier mot si c'est possible\n",
    "        # Si impossible on sort des deux boucles et on ne rajoute pas le papier ?\n",
    "        idx_parenthese_ouverte = IDs2[i][j].find(\"(\")\n",
    "        idx_parenthese_fermee = IDs2[i][j].find(\")\")\n",
    "        if idx_parenthese_ouverte != -1 and idx_parenthese_fermee != -1:\n",
    "            print(\"erreur type 1\")\n",
    "            IDs_ij = IDs2[i][j][0:(idx_parenthese_ouverte-1)]+IDs2[i][j][(idx_parenthese_fermee+2):]\n",
    "            print(IDs2[i][j], IDs_ij)\n",
    "        elif idx_parenthese_ouverte != -1:\n",
    "            print(\"erreur type 2\")\n",
    "            IDs_ij = IDs2[i][j][0:(idx_parenthese_ouverte-1)]\n",
    "            print(IDs2[i][j])\n",
    "            print(IDs_ij)\n",
    "        elif idx_parenthese_fermee != -1:\n",
    "            print(\"erreur type 3\")\n",
    "            IDs_ij = IDs2[i][j][(idx_parenthese_fermee+2):]\n",
    "            print(IDs2[i][j])\n",
    "            print(IDs_ij)\n",
    "        else : \n",
    "            IDs_ij = IDs2[i][j]\n",
    "        temp = IDs_ij.split(\" \")\n",
    "        #print(temp)\n",
    "        if temp==[\"\"]:\n",
    "            drap = 2\n",
    "            break\n",
    "        if temp[-1] == \"\" or temp[-1][0].isupper() == False:\n",
    "            drap = 1\n",
    "            break\n",
    "        else:\n",
    "            temp_list.append(temp[0][0].upper() + \". \" + temp[-1])\n",
    "    \n",
    "    if drap == 0:\n",
    "        res.append(temp_list)\n",
    "    elif drap==1:\n",
    "        res.append(None)\n",
    "        n_erreur+=1\n",
    "    else:\n",
    "        res.append(None)\n",
    "        n_erreur2+=1\n",
    "        \n",
    "print(\"Erreur 1 (nom bizarre) : \", n_erreur, \"Erreur 2 (pas de nom) : \", n_erreur2)\n"
   ]
  },
  {
   "cell_type": "code",
   "execution_count": 157,
   "metadata": {
    "collapsed": false
   },
   "outputs": [
    {
     "data": {
      "text/plain": [
       "27770"
      ]
     },
     "execution_count": 157,
     "metadata": {},
     "output_type": "execute_result"
    }
   ],
   "source": [
    "len(res)"
   ]
  },
  {
   "cell_type": "markdown",
   "metadata": {},
   "source": [
    "## Stockage du fichier avec les noms corrigés et séparés (potentiellement inutile)"
   ]
  },
  {
   "cell_type": "code",
   "execution_count": 89,
   "metadata": {
    "collapsed": true
   },
   "outputs": [],
   "source": [
    "fo = open('node_info_rectified.csv','w')\n",
    "writer = csv.writer(fo,  lineterminator = '\\n')\n",
    "i=0\n",
    "f = open(\"node_information.csv\", \"r\")\n",
    "reader = csv.reader(f)\n",
    "\n",
    "for row in reader:\n",
    "    row[3] = res[i]\n",
    "    writer.writerow(row)\n",
    "    i+=1\n",
    "\n",
    "fo.close()\n",
    "f.close()"
   ]
  },
  {
   "cell_type": "markdown",
   "metadata": {},
   "source": [
    "On selectionne les couples d'articles qui sont liés"
   ]
  },
  {
   "cell_type": "code",
   "execution_count": 37,
   "metadata": {
    "collapsed": true
   },
   "outputs": [],
   "source": [
    "couple_article = [ [id1,id2] for id1, id2, edge in training_set if int(edge) == 1 ] \n",
    "list_couple_article_without_edge = [ [id1,id2] for id1, id2, edge in training_set if int(edge) ==0 ] "
   ]
  },
  {
   "cell_type": "code",
   "execution_count": 7,
   "metadata": {
    "collapsed": false
   },
   "outputs": [
    {
     "data": {
      "text/plain": [
       "335130"
      ]
     },
     "execution_count": 7,
     "metadata": {},
     "output_type": "execute_result"
    }
   ],
   "source": [
    "len(couple_article)"
   ]
  },
  {
   "cell_type": "markdown",
   "metadata": {},
   "source": [
    "### Création d'un dictionnaire des citations entre auteurs et des coauteurs"
   ]
  },
  {
   "cell_type": "code",
   "execution_count": 90,
   "metadata": {
    "collapsed": false
   },
   "outputs": [],
   "source": [
    "dict_id_coauthor = {}\n",
    "dict_id_coauthor_strict = {}\n",
    "list_coauthor = list()\n",
    "for i in res:\n",
    "    if i != None:\n",
    "        for j in i:\n",
    "            for k in i:\n",
    "                    dict_id_coauthor[j]=k\n",
    "                    if j != k:\n",
    "                        dict_id_coauthor_strict[j]=k\n",
    "                        list_coauthor.append(list([j, k]))\n",
    "                    "
   ]
  },
  {
   "cell_type": "code",
   "execution_count": 137,
   "metadata": {
    "collapsed": false
   },
   "outputs": [],
   "source": [
    "G.clear()"
   ]
  },
  {
   "cell_type": "markdown",
   "metadata": {},
   "source": [
    "## Création du graphe d'article"
   ]
  },
  {
   "cell_type": "code",
   "execution_count": 138,
   "metadata": {
    "collapsed": true
   },
   "outputs": [],
   "source": [
    "graph_article = nx.Graph(couple_article)\n",
    "G=graph_article\n",
    "#add isolated nodes\n",
    "G.add_nodes_from(IDs)"
   ]
  },
  {
   "cell_type": "markdown",
   "metadata": {},
   "source": [
    "### Ajout de l'attribut \"auteur\" à chaque noeud"
   ]
  },
  {
   "cell_type": "code",
   "execution_count": 140,
   "metadata": {
    "collapsed": false
   },
   "outputs": [],
   "source": [
    "for i in range(len(node_info)):\n",
    "    if G.has_node(node_info[i][0]):\n",
    "        G.node[node_info[i][0]]['author'] = res[i]"
   ]
  },
  {
   "cell_type": "code",
   "execution_count": 139,
   "metadata": {
    "collapsed": true
   },
   "outputs": [],
   "source": [
    "Graph_coauthor.clear()"
   ]
  },
  {
   "cell_type": "markdown",
   "metadata": {},
   "source": [
    "## Création du graphe d'auteur (arrêtes : cocitation)"
   ]
  },
  {
   "cell_type": "code",
   "execution_count": 141,
   "metadata": {
    "collapsed": false
   },
   "outputs": [],
   "source": [
    "Graph_author = nx.Graph()\n",
    "for node, data in G.nodes_iter(data=True):\n",
    "    if data['author'] != None:\n",
    "        for author in data['author']:\n",
    "            Graph_author.add_node(author)"
   ]
  },
  {
   "cell_type": "code",
   "execution_count": 127,
   "metadata": {
    "collapsed": false
   },
   "outputs": [
    {
     "data": {
      "text/plain": [
       "{'author': ['M. Cvetic', 'H. Lu', 'C. Pope']}"
      ]
     },
     "execution_count": 127,
     "metadata": {},
     "output_type": "execute_result"
    }
   ],
   "source": [
    "G.node['1002']"
   ]
  },
  {
   "cell_type": "code",
   "execution_count": 142,
   "metadata": {
    "collapsed": false
   },
   "outputs": [],
   "source": [
    "for edge in G.edges_iter():\n",
    "    if G.node[edge[0]]['author'] != None and G.node[edge[1]]['author'] != None:\n",
    "        for author_from in G.node[edge[0]]['author']:\n",
    "            for author_to in G.node[edge[1]]['author']:\n",
    "                Graph_author.add_edge(author_from,author_to)"
   ]
  },
  {
   "cell_type": "code",
   "execution_count": 146,
   "metadata": {
    "collapsed": false
   },
   "outputs": [
    {
     "data": {
      "text/plain": [
       "{'G. Mangano': {}, 'S. Adler': {}}"
      ]
     },
     "execution_count": 146,
     "metadata": {},
     "output_type": "execute_result"
    }
   ],
   "source": [
    "Graph_coauthor.edge['A. Kempf']"
   ]
  },
  {
   "cell_type": "markdown",
   "metadata": {},
   "source": [
    "## Création du graphe de coateurs (arrêtes : corédaction)"
   ]
  },
  {
   "cell_type": "code",
   "execution_count": 144,
   "metadata": {
    "collapsed": false
   },
   "outputs": [],
   "source": [
    "Graph_coauthor = nx.Graph()\n",
    "for node, data in G.nodes_iter(data=True):\n",
    "    if data['author'] != None:\n",
    "        for author in data['author']:\n",
    "            Graph_coauthor.add_node(author)"
   ]
  },
  {
   "cell_type": "code",
   "execution_count": 145,
   "metadata": {
    "collapsed": true
   },
   "outputs": [],
   "source": [
    "for node, data in G.nodes_iter(data=True):\n",
    "    if data['author'] != None:\n",
    "        for author1 in data['author']:\n",
    "            for author2 in data['author']:\n",
    "                if author1 != author2:\n",
    "                    Graph_coauthor.add_edge(author1,author2)"
   ]
  },
  {
   "cell_type": "markdown",
   "metadata": {},
   "source": [
    "### Calcul des plus courts chemins (inutile ?)"
   ]
  },
  {
   "cell_type": "code",
   "execution_count": 322,
   "metadata": {
    "collapsed": false
   },
   "outputs": [
    {
     "name": "stdout",
     "output_type": "stream",
     "text": [
      "100000\n",
      "200000\n",
      "300000\n",
      "400000\n",
      "500000\n",
      "600000\n"
     ]
    }
   ],
   "source": [
    "shortest_path=[]\n",
    "i=0\n",
    "for node1, node2, edge in training_set:\n",
    "    if nx.has_path(G=G,source=node1, target=node2):\n",
    "        shortest_path.append(nx.shortest_path_length(G,node1,node2))\n",
    "    else:\n",
    "        shortest_path.append(50)\n",
    "    i+=1\n",
    "    if np.mod(i,100000)==0:\n",
    "        print(i)"
   ]
  },
  {
   "cell_type": "code",
   "execution_count": 341,
   "metadata": {
    "collapsed": false
   },
   "outputs": [],
   "source": [
    "isedge = []\n",
    "for i in range(len(training_set)):\n",
    "    if int(training_set[i][2])==1:\n",
    "        isedge.append(\"r\")\n",
    "    else:\n",
    "        isedge.append(\"g\")"
   ]
  },
  {
   "cell_type": "code",
   "execution_count": 342,
   "metadata": {
    "collapsed": false
   },
   "outputs": [
    {
     "data": {
      "image/png": "[encoded data removed]",
      "text/plain": [
       "<matplotlib.figure.Figure at 0x9493b477f0>"
      ]
     },
     "metadata": {},
     "output_type": "display_data"
    }
   ],
   "source": [
    "shortest_length_sequence=sorted(shortest_path) # degree sequence\n",
    "#print \"Degree sequence\", degree_sequence\n",
    "dmax=max(shortest_length_sequence)\n",
    "\n",
    "plt.plot(shortest_length_sequence, ls='b-',color=isedge,marker='o')\n",
    "plt.title(\"Shortest length rank plot\")\n",
    "plt.ylabel(\"length\")\n",
    "plt.xlabel(\"rank\")\n",
    "\n",
    "# draw graph in inset\n",
    "plt.axes([0.45,0.45,0.45,0.45])\n",
    "\n",
    "plt.axis('off')\n",
    "\n",
    "plt.savefig(\"shortest_length_histogram.png\")\n",
    "plt.show()"
   ]
  },
  {
   "cell_type": "markdown",
   "metadata": {},
   "source": [
    "## Calcul des plus courts chemins (graphe d'auteur)"
   ]
  },
  {
   "cell_type": "code",
   "execution_count": 368,
   "metadata": {
    "collapsed": false
   },
   "outputs": [
    {
     "name": "stdout",
     "output_type": "stream",
     "text": [
      "100000\n",
      "200000\n",
      "300000\n",
      "400000\n",
      "500000\n",
      "600000\n"
     ]
    }
   ],
   "source": [
    "min_shortest_path_author=[]\n",
    "i=0\n",
    "for node1, node2, edge in training_set:\n",
    "    temp=[]\n",
    "    if G.node[node1]['author']==None or G.node[node2]['author']==None:\n",
    "        min_shortest_path_author.append(1000)\n",
    "    else:\n",
    "        for author1 in G.node[node1]['author']:\n",
    "            for author2 in G.node[node2]['author']:\n",
    "                if nx.has_path(G=Graph_author,source=author1, target=author2):\n",
    "                    temp.append(nx.shortest_path_length(G=Graph_author,source=author1, target=author2))\n",
    "    if len(temp) != 0:\n",
    "        min_shortest_path_author.append(min(temp))\n",
    "    else:\n",
    "        min_shortest_path_author.append(2000)\n",
    "                    \n",
    "    i+=1\n",
    "    if np.mod(i,100000)==0:\n",
    "        print(i)"
   ]
  },
  {
   "cell_type": "code",
   "execution_count": 420,
   "metadata": {
    "collapsed": false
   },
   "outputs": [
    {
     "data": {
      "text/plain": [
       "2000.0"
      ]
     },
     "execution_count": 420,
     "metadata": {},
     "output_type": "execute_result"
    }
   ],
   "source": [
    "np.percentile(min_shortest_path_author, q=76.0069)"
   ]
  },
  {
   "cell_type": "code",
   "execution_count": 391,
   "metadata": {
    "collapsed": false
   },
   "outputs": [
    {
     "data": {
      "text/plain": [
       "203.58930799225345"
      ]
     },
     "execution_count": 391,
     "metadata": {},
     "output_type": "execute_result"
    }
   ],
   "source": [
    "np.percentile(min_shortest_path_author, q=52.4134)"
   ]
  },
  {
   "cell_type": "code",
   "execution_count": 301,
   "metadata": {
    "collapsed": false
   },
   "outputs": [
    {
     "data": {
      "image/png": "[encoded data removed]",
      "text/plain": [
       "<matplotlib.figure.Figure at 0x9493d2f208>"
      ]
     },
     "metadata": {},
     "output_type": "display_data"
    }
   ],
   "source": [
    "import networkx as nx\n",
    "import matplotlib.pyplot as plt\n",
    "\n",
    "degree_sequence=sorted(nx.degree(G).values(),reverse=True) # degree sequence\n",
    "#print \"Degree sequence\", degree_sequence\n",
    "dmax=max(degree_sequence)\n",
    "\n",
    "plt.loglog(degree_sequence,'b-',marker='o')\n",
    "plt.title(\"Degree rank plot\")\n",
    "plt.ylabel(\"degree\")\n",
    "plt.xlabel(\"rank\")\n",
    "\n",
    "# draw graph in inset\n",
    "plt.axes([0.45,0.45,0.45,0.45])\n",
    "\n",
    "plt.axis('off')\n",
    "\n",
    "plt.savefig(\"degree_histogram.png\")\n",
    "plt.show()"
   ]
  },
  {
   "cell_type": "code",
   "execution_count": 302,
   "metadata": {
    "collapsed": false
   },
   "outputs": [
    {
     "data": {
      "image/png": "[encoded data removed]",
      "text/plain": [
       "<matplotlib.figure.Figure at 0x9493f01198>"
      ]
     },
     "metadata": {},
     "output_type": "display_data"
    }
   ],
   "source": [
    "import networkx as nx\n",
    "import matplotlib.pyplot as plt\n",
    "\n",
    "degree_sequence=sorted(nx.degree(Graph_author).values(),reverse=True) # degree sequence\n",
    "#print \"Degree sequence\", degree_sequence\n",
    "dmax=max(degree_sequence)\n",
    "\n",
    "plt.loglog(degree_sequence,'b-',marker='o')\n",
    "plt.title(\"Degree rank plot\")\n",
    "plt.ylabel(\"degree\")\n",
    "plt.xlabel(\"rank\")\n",
    "\n",
    "# draw graph in inset\n",
    "plt.axes([0.45,0.45,0.45,0.45])\n",
    "\n",
    "plt.axis('off')\n",
    "\n",
    "plt.savefig(\"degree_histogram.png\")\n",
    "plt.show()"
   ]
  },
  {
   "cell_type": "code",
   "execution_count": 303,
   "metadata": {
    "collapsed": false
   },
   "outputs": [
    {
     "data": {
      "image/png": "[encoded data removed]",
      "text/plain": [
       "<matplotlib.figure.Figure at 0x9494069438>"
      ]
     },
     "metadata": {},
     "output_type": "display_data"
    }
   ],
   "source": [
    "import networkx as nx\n",
    "import matplotlib.pyplot as plt\n",
    "\n",
    "degree_sequence=sorted(nx.degree(Graph_coauthor).values(),reverse=True) # degree sequence\n",
    "#print \"Degree sequence\", degree_sequence\n",
    "dmax=max(degree_sequence)\n",
    "\n",
    "plt.loglog(degree_sequence,'b-',marker='o')\n",
    "plt.title(\"Degree rank plot\")\n",
    "plt.ylabel(\"degree\")\n",
    "plt.xlabel(\"rank\")\n",
    "\n",
    "# draw graph in inset\n",
    "plt.axes([0.45,0.45,0.45,0.45])\n",
    "\n",
    "plt.axis('off')\n",
    "\n",
    "plt.savefig(\"degree_histogram.png\")\n",
    "plt.show()"
   ]
  }
 ],
 "metadata": {
  "kernelspec": {
   "display_name": "Python 3",
   "language": "python",
   "name": "python3"
  },
  "language_info": {
   "codemirror_mode": {
    "name": "ipython",
    "version": 3
   },
   "file_extension": ".py",
   "mimetype": "text/x-python",
   "name": "python",
   "nbconvert_exporter": "python",
   "pygments_lexer": "ipython3",
   "version": "3.5.0"
  }
 },
 "nbformat": 4,
 "nbformat_minor": 0
}
